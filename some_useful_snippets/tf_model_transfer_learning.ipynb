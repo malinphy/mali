{
  "nbformat": 4,
  "nbformat_minor": 0,
  "metadata": {
    "colab": {
      "name": "SciBERT demo.ipynb",
      "provenance": []
    },
    "kernelspec": {
      "display_name": "Python 3",
      "name": "python3"
    }
  },
  "cells": [
    {
      "cell_type": "code",
      "source": [
        "import numpy as np \n",
        "import tensorflow as tf \n",
        "\n",
        "from tensorflow import keras \n",
        "from tensorflow.keras import layers, Model, Input\n",
        "from tensorflow.keras.layers import *"
      ],
      "metadata": {
        "id": "B3-abpLkKw43"
      },
      "execution_count": 1,
      "outputs": []
    },
    {
      "cell_type": "code",
      "source": [
        "arr1 = np.array([1,2,3,4,5,6])\n",
        "arr2 = np.array([1,2,3,4,5,6])\n",
        "arr3 = np.array([1,2,3,4,5,6])\n",
        "labels = np.array([1,0,1,0,1,0])"
      ],
      "metadata": {
        "id": "iUIUjEpAKw1M"
      },
      "execution_count": 2,
      "outputs": []
    },
    {
      "cell_type": "code",
      "source": [
        "inp1 = Input(shape = (1,), name = 'input1')\n",
        "inp2 = Input(shape = (1,), name = 'input2')\n",
        "inp3 = Input(shape = (1,), name = 'input3')"
      ],
      "metadata": {
        "id": "Q0NNv8MYKwyz"
      },
      "execution_count": 3,
      "outputs": []
    },
    {
      "cell_type": "code",
      "source": [
        "inp1 = Input(shape = (1,), name = 'input1')\n",
        "inp2 = Input(shape = (1,), name = 'input2')\n",
        "inp3 = Input(shape = (1,), name = 'input3')\n",
        "\n",
        "conc = tf.keras.layers.Concatenate(axis = 1, name = 'concat_layer')([inp1, inp2, inp3])\n",
        "d1 = Dense(3, activation = 'relu', name = 'd1_layer')(conc)\n",
        "d2 = Dense(2, activation = 'relu', name = 'd2_layer')(d1)\n",
        "d3 = Dense(1, activation = 'sigmoid', name = 'd3_layer')(d2)\n",
        "\n",
        "toy_model = Model(inputs = [inp1, inp2, inp3], outputs = d3)\n",
        "\n",
        "toy_model.compile(\n",
        "    loss = 'MSE',\n",
        "    optimizer = 'SGD'\n",
        "    )\n",
        "\n",
        "toy_model.fit([arr1, arr2, arr3],\n",
        "              labels, \n",
        "              epochs = 3,\n",
        "              verbose = 0)"
      ],
      "metadata": {
        "id": "qZk9p3NHKwwW",
        "outputId": "04531c5e-9551-4392-eaae-7639e2ce001f",
        "colab": {
          "base_uri": "https://localhost:8080/"
        }
      },
      "execution_count": 4,
      "outputs": [
        {
          "output_type": "execute_result",
          "data": {
            "text/plain": [
              "<keras.callbacks.History at 0x7f6c97e2e990>"
            ]
          },
          "metadata": {},
          "execution_count": 4
        }
      ]
    },
    {
      "cell_type": "code",
      "source": [
        "print(toy_model.predict([np.array([1]),np.array([2]),np.array([3])]))"
      ],
      "metadata": {
        "id": "ZobJJDr_Kwt2",
        "outputId": "c524c7db-b888-437f-ff2a-14cef2c99717",
        "colab": {
          "base_uri": "https://localhost:8080/"
        }
      },
      "execution_count": 5,
      "outputs": [
        {
          "output_type": "stream",
          "name": "stdout",
          "text": [
            "[[0.5]]\n"
          ]
        }
      ]
    },
    {
      "cell_type": "code",
      "source": [
        "from google.colab import drive\n",
        "drive.mount('/content/drive')"
      ],
      "metadata": {
        "id": "f1C_ouoEK6ZF",
        "outputId": "7a1e0b21-5610-48da-8390-4bc80bf40507",
        "colab": {
          "base_uri": "https://localhost:8080/"
        }
      },
      "execution_count": 6,
      "outputs": [
        {
          "output_type": "stream",
          "name": "stdout",
          "text": [
            "Drive already mounted at /content/drive; to attempt to forcibly remount, call drive.mount(\"/content/drive\", force_remount=True).\n"
          ]
        }
      ]
    },
    {
      "cell_type": "code",
      "source": [
        "import os \n",
        "# os.listdir('drive/MyDrive')\n",
        "path = 'drive/MyDrive'"
      ],
      "metadata": {
        "id": "DUl4s-IFK7nL"
      },
      "execution_count": 7,
      "outputs": []
    },
    {
      "cell_type": "code",
      "source": [
        "toy_model.save('drive/MyDrive/toy_model.h5')"
      ],
      "metadata": {
        "id": "suI5nio1LBxq"
      },
      "execution_count": 8,
      "outputs": []
    },
    {
      "cell_type": "code",
      "source": [
        "toy2 = tf.keras.models.load_model('drive/MyDrive/toy_model.h5')\n",
        "toy2"
      ],
      "metadata": {
        "id": "LrRsTT2BLDCy",
        "outputId": "643e2a9d-ecdb-4f72-80ea-681b13891b47",
        "colab": {
          "base_uri": "https://localhost:8080/"
        }
      },
      "execution_count": 9,
      "outputs": [
        {
          "output_type": "execute_result",
          "data": {
            "text/plain": [
              "<keras.engine.functional.Functional at 0x7f6c96503390>"
            ]
          },
          "metadata": {},
          "execution_count": 9
        }
      ]
    },
    {
      "cell_type": "code",
      "source": [
        "toy2.summary()"
      ],
      "metadata": {
        "id": "_7qru8N6LELR",
        "outputId": "5bf547f9-6dc9-41d6-8520-b548d2084a39",
        "colab": {
          "base_uri": "https://localhost:8080/"
        }
      },
      "execution_count": 10,
      "outputs": [
        {
          "output_type": "stream",
          "name": "stdout",
          "text": [
            "Model: \"model\"\n",
            "__________________________________________________________________________________________________\n",
            " Layer (type)                   Output Shape         Param #     Connected to                     \n",
            "==================================================================================================\n",
            " input1 (InputLayer)            [(None, 1)]          0           []                               \n",
            "                                                                                                  \n",
            " input2 (InputLayer)            [(None, 1)]          0           []                               \n",
            "                                                                                                  \n",
            " input3 (InputLayer)            [(None, 1)]          0           []                               \n",
            "                                                                                                  \n",
            " concat_layer (Concatenate)     (None, 3)            0           ['input1[0][0]',                 \n",
            "                                                                  'input2[0][0]',                 \n",
            "                                                                  'input3[0][0]']                 \n",
            "                                                                                                  \n",
            " d1_layer (Dense)               (None, 3)            12          ['concat_layer[0][0]']           \n",
            "                                                                                                  \n",
            " d2_layer (Dense)               (None, 2)            8           ['d1_layer[0][0]']               \n",
            "                                                                                                  \n",
            " d3_layer (Dense)               (None, 1)            3           ['d2_layer[0][0]']               \n",
            "                                                                                                  \n",
            "==================================================================================================\n",
            "Total params: 23\n",
            "Trainable params: 23\n",
            "Non-trainable params: 0\n",
            "__________________________________________________________________________________________________\n"
          ]
        }
      ]
    },
    {
      "cell_type": "code",
      "source": [
        "print('toy2 predict',toy2.predict([np.array([1]),np.array([2]),np.array([3])]))\n",
        "print('toy predict',toy_model([np.array([1]),np.array([2]),np.array([3])]))\n",
        "print('toy2 out',toy2([np.array([1]),np.array([2]),np.array([3])]))"
      ],
      "metadata": {
        "id": "ACLVW3gCLOEO",
        "outputId": "4e16c281-87a8-4e63-9dd4-49bd58b5039f",
        "colab": {
          "base_uri": "https://localhost:8080/"
        }
      },
      "execution_count": 11,
      "outputs": [
        {
          "output_type": "stream",
          "name": "stdout",
          "text": [
            "toy2 predict [[0.5]]\n",
            "toy predict tf.Tensor([[0.5]], shape=(1, 1), dtype=float32)\n",
            "toy2 out tf.Tensor([[0.5]], shape=(1, 1), dtype=float32)\n"
          ]
        }
      ]
    },
    {
      "cell_type": "code",
      "source": [
        "for layer in toy2.layers:\n",
        "    print((layer.name), layer)"
      ],
      "metadata": {
        "id": "3ef7hxkaLOgK",
        "outputId": "d35bf01f-43d9-4252-faa7-e923e68667ed",
        "colab": {
          "base_uri": "https://localhost:8080/"
        }
      },
      "execution_count": 12,
      "outputs": [
        {
          "output_type": "stream",
          "name": "stdout",
          "text": [
            "input1 <keras.engine.input_layer.InputLayer object at 0x7f6c9b3d5d50>\n",
            "input2 <keras.engine.input_layer.InputLayer object at 0x7f6c97d4e810>\n",
            "input3 <keras.engine.input_layer.InputLayer object at 0x7f6c9b3d5910>\n",
            "concat_layer <keras.layers.merge.Concatenate object at 0x7f6c96525910>\n",
            "d1_layer <keras.layers.core.dense.Dense object at 0x7f6c97d57d50>\n",
            "d2_layer <keras.layers.core.dense.Dense object at 0x7f6c9650f490>\n",
            "d3_layer <keras.layers.core.dense.Dense object at 0x7f6c97cfdb90>\n"
          ]
        }
      ]
    },
    {
      "cell_type": "code",
      "source": [
        "toy2_out = toy2.output\n",
        "print(toy2_out)\n",
        "toy_final = Dense(1, activation='sigmoid')(toy2_out)\n",
        "toy2_added = Model(inputs=toy2.input, outputs=toy_final)\n",
        "toy2_added.compile(\n",
        "    loss = 'MSE',\n",
        "    optimizer = 'SGD'\n",
        "    )\n",
        "\n",
        "toy2_added.fit([arr1, arr2, arr3],\n",
        "              labels, \n",
        "              epochs = 3,\n",
        "              verbose = 0)"
      ],
      "metadata": {
        "id": "tdrPnJdMLPoZ",
        "outputId": "33eacb87-4fc2-4c13-dc46-fa591ed59471",
        "colab": {
          "base_uri": "https://localhost:8080/"
        }
      },
      "execution_count": 13,
      "outputs": [
        {
          "output_type": "stream",
          "name": "stdout",
          "text": [
            "KerasTensor(type_spec=TensorSpec(shape=(None, 1), dtype=tf.float32, name=None), name='d3_layer/Sigmoid:0', description=\"created by layer 'd3_layer'\")\n"
          ]
        },
        {
          "output_type": "execute_result",
          "data": {
            "text/plain": [
              "<keras.callbacks.History at 0x7f6c97cec810>"
            ]
          },
          "metadata": {},
          "execution_count": 13
        }
      ]
    },
    {
      "cell_type": "code",
      "source": [
        "x = toy_model.layers[-2].output "
      ],
      "metadata": {
        "id": "9jbNrQtQLwgQ"
      },
      "execution_count": 14,
      "outputs": []
    },
    {
      "cell_type": "code",
      "source": [
        "print(x)"
      ],
      "metadata": {
        "id": "kLnZPTLqLyKI",
        "outputId": "75d97982-a7ef-4d41-a46f-717c1c82810a",
        "colab": {
          "base_uri": "https://localhost:8080/"
        }
      },
      "execution_count": 15,
      "outputs": [
        {
          "output_type": "stream",
          "name": "stdout",
          "text": [
            "KerasTensor(type_spec=TensorSpec(shape=(None, 2), dtype=tf.float32, name=None), name='d2_layer/Relu:0', description=\"created by layer 'd2_layer'\")\n"
          ]
        }
      ]
    },
    {
      "cell_type": "code",
      "source": [
        "toy3 = Model(inputs =toy_model.input, outputs= toy_model.layers[-2].output)"
      ],
      "metadata": {
        "id": "am1YE84BLzF_"
      },
      "execution_count": 16,
      "outputs": []
    },
    {
      "cell_type": "code",
      "source": [
        "toy3.summary()"
      ],
      "metadata": {
        "id": "IuZSkPrMMMi_",
        "outputId": "7484e774-4ead-4471-c508-ffe1dcb65b3c",
        "colab": {
          "base_uri": "https://localhost:8080/"
        }
      },
      "execution_count": 17,
      "outputs": [
        {
          "output_type": "stream",
          "name": "stdout",
          "text": [
            "Model: \"model_2\"\n",
            "__________________________________________________________________________________________________\n",
            " Layer (type)                   Output Shape         Param #     Connected to                     \n",
            "==================================================================================================\n",
            " input1 (InputLayer)            [(None, 1)]          0           []                               \n",
            "                                                                                                  \n",
            " input2 (InputLayer)            [(None, 1)]          0           []                               \n",
            "                                                                                                  \n",
            " input3 (InputLayer)            [(None, 1)]          0           []                               \n",
            "                                                                                                  \n",
            " concat_layer (Concatenate)     (None, 3)            0           ['input1[0][0]',                 \n",
            "                                                                  'input2[0][0]',                 \n",
            "                                                                  'input3[0][0]']                 \n",
            "                                                                                                  \n",
            " d1_layer (Dense)               (None, 3)            12          ['concat_layer[0][0]']           \n",
            "                                                                                                  \n",
            " d2_layer (Dense)               (None, 2)            8           ['d1_layer[0][0]']               \n",
            "                                                                                                  \n",
            "==================================================================================================\n",
            "Total params: 20\n",
            "Trainable params: 20\n",
            "Non-trainable params: 0\n",
            "__________________________________________________________________________________________________\n"
          ]
        }
      ]
    },
    {
      "cell_type": "code",
      "source": [
        "toy3([np.array([1]),np.array([2]),np.array([3])])"
      ],
      "metadata": {
        "id": "KtuNssz0MT0u",
        "outputId": "43385ad2-64ab-48cf-e955-7ca313c25a4e",
        "colab": {
          "base_uri": "https://localhost:8080/"
        }
      },
      "execution_count": 18,
      "outputs": [
        {
          "output_type": "execute_result",
          "data": {
            "text/plain": [
              "<tf.Tensor: shape=(1, 2), dtype=float32, numpy=array([[0., 0.]], dtype=float32)>"
            ]
          },
          "metadata": {},
          "execution_count": 18
        }
      ]
    },
    {
      "cell_type": "code",
      "source": [
        ""
      ],
      "metadata": {
        "id": "QZTVu8t_MwP-"
      },
      "execution_count": 18,
      "outputs": []
    }
  ]
}