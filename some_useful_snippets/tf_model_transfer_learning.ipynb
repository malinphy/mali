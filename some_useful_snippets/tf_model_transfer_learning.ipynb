{
  "nbformat": 4,
  "nbformat_minor": 0,
  "metadata": {
    "colab": {
      "name": "SciBERT demo.ipynb",
      "provenance": []
    },
    "kernelspec": {
      "display_name": "Python 3",
      "name": "python3"
    }
  },
  "cells": [
    {
      "cell_type": "code",
      "metadata": {
        "id": "Lj6cbR0JBTCP"
      },
      "source": [
        "import numpy as np \n",
        "import tensorflow as tf \n",
        "\n",
        "from tensorflow import keras \n",
        "from tensorflow.keras import layers, Model, Input\n",
        "from tensorflow.keras.layers import *"
      ],
      "execution_count": 1,
      "outputs": []
    },
    {
      "cell_type": "code",
      "source": [
        "arr1 = np.array([1,2,3,4,5,6])\n",
        "arr2 = np.array([1,2,3,4,5,6])\n",
        "arr3 = np.array([1,2,3,4,5,6])\n",
        "labels = np.array([1,0,1,0,1,0])"
      ],
      "metadata": {
        "id": "espdDrIt7j2C"
      },
      "execution_count": 2,
      "outputs": []
    },
    {
      "cell_type": "code",
      "source": [
        "inp1 = Input(shape = (1,), name = 'input1')\n",
        "inp2 = Input(shape = (1,), name = 'input2')\n",
        "inp3 = Input(shape = (1,), name = 'input3')\n",
        "\n",
        "conc = tf.keras.layers.Concatenate(axis = 1, name = 'concat_layer')([inp1, inp2, inp3])\n",
        "d1 = Dense(3, activation = 'relu', name = 'd1_layer')(conc)\n",
        "d2 = Dense(2, activation = 'relu', name = 'd2_layer')(d1)\n",
        "d3 = Dense(1, activation = 'sigmoid', name = 'd3_layer')(d2)\n",
        "\n",
        "toy_model = Model(inputs = [inp1, inp2, inp3], outputs = d3)\n",
        "\n",
        "toy_model.compile(\n",
        "    loss = 'MSE',\n",
        "    optimizer = 'SGD'\n",
        "    )\n",
        "\n",
        "toy_model.fit([arr1, arr2, arr3],\n",
        "              labels, \n",
        "              epochs = 3,\n",
        "              verbose = 0)"
      ],
      "metadata": {
        "id": "Hy4qqyvl7pY4",
        "outputId": "ad6b6e0e-caed-48fd-ef01-e7ed00f335ca",
        "colab": {
          "base_uri": "https://localhost:8080/"
        }
      },
      "execution_count": 3,
      "outputs": [
        {
          "output_type": "execute_result",
          "data": {
            "text/plain": [
              "<keras.callbacks.History at 0x7f1a21be2ed0>"
            ]
          },
          "metadata": {},
          "execution_count": 3
        }
      ]
    },
    {
      "cell_type": "code",
      "source": [
        "print(toy_model.predict([np.array([1]),np.array([2]),np.array([3])]))"
      ],
      "metadata": {
        "id": "zTWGmM7QAE2-",
        "outputId": "f7337de0-e716-49b3-a095-713619804c08",
        "colab": {
          "base_uri": "https://localhost:8080/"
        }
      },
      "execution_count": 52,
      "outputs": [
        {
          "output_type": "stream",
          "name": "stdout",
          "text": [
            "[[0.5]]\n"
          ]
        }
      ]
    },
    {
      "cell_type": "code",
      "source": [
        "from google.colab import drive\n",
        "drive.mount('/content/drive')"
      ],
      "metadata": {
        "id": "Jd04KzBW8PA3",
        "outputId": "b6392259-c118-4fb8-bd1e-b64c88168e45",
        "colab": {
          "base_uri": "https://localhost:8080/"
        }
      },
      "execution_count": 5,
      "outputs": [
        {
          "output_type": "stream",
          "name": "stdout",
          "text": [
            "Drive already mounted at /content/drive; to attempt to forcibly remount, call drive.mount(\"/content/drive\", force_remount=True).\n"
          ]
        }
      ]
    },
    {
      "cell_type": "code",
      "source": [
        "import os \n",
        "# os.listdir('drive/MyDrive')\n",
        "path = 'drive/MyDrive'"
      ],
      "metadata": {
        "id": "AOoF9iS09eS9"
      },
      "execution_count": 6,
      "outputs": []
    },
    {
      "cell_type": "code",
      "source": [
        "toy_model.save('drive/MyDrive/toy_model.h5')"
      ],
      "metadata": {
        "id": "gukVn4ui90-9"
      },
      "execution_count": 7,
      "outputs": []
    },
    {
      "cell_type": "code",
      "source": [
        "toy2 = tf.keras.models.load_model('drive/MyDrive/toy_model.h5')\n",
        "toy2"
      ],
      "metadata": {
        "id": "lqAuOrNw-iyd",
        "outputId": "b6606a9f-e327-4ed0-f8c5-3dc65cd31a6a",
        "colab": {
          "base_uri": "https://localhost:8080/"
        }
      },
      "execution_count": 8,
      "outputs": [
        {
          "output_type": "execute_result",
          "data": {
            "text/plain": [
              "<keras.engine.functional.Functional at 0x7f1a202e8e90>"
            ]
          },
          "metadata": {},
          "execution_count": 8
        }
      ]
    },
    {
      "cell_type": "code",
      "source": [
        "toy2.summary()"
      ],
      "metadata": {
        "id": "pB_h_J31_7O8",
        "outputId": "bb706557-4d4d-4d63-a4ca-4f3ab22f725d",
        "colab": {
          "base_uri": "https://localhost:8080/"
        }
      },
      "execution_count": 9,
      "outputs": [
        {
          "output_type": "stream",
          "name": "stdout",
          "text": [
            "Model: \"model\"\n",
            "__________________________________________________________________________________________________\n",
            " Layer (type)                   Output Shape         Param #     Connected to                     \n",
            "==================================================================================================\n",
            " input1 (InputLayer)            [(None, 1)]          0           []                               \n",
            "                                                                                                  \n",
            " input2 (InputLayer)            [(None, 1)]          0           []                               \n",
            "                                                                                                  \n",
            " input3 (InputLayer)            [(None, 1)]          0           []                               \n",
            "                                                                                                  \n",
            " concat_layer (Concatenate)     (None, 3)            0           ['input1[0][0]',                 \n",
            "                                                                  'input2[0][0]',                 \n",
            "                                                                  'input3[0][0]']                 \n",
            "                                                                                                  \n",
            " d1_layer (Dense)               (None, 3)            12          ['concat_layer[0][0]']           \n",
            "                                                                                                  \n",
            " d2_layer (Dense)               (None, 2)            8           ['d1_layer[0][0]']               \n",
            "                                                                                                  \n",
            " d3_layer (Dense)               (None, 1)            3           ['d2_layer[0][0]']               \n",
            "                                                                                                  \n",
            "==================================================================================================\n",
            "Total params: 23\n",
            "Trainable params: 23\n",
            "Non-trainable params: 0\n",
            "__________________________________________________________________________________________________\n"
          ]
        }
      ]
    },
    {
      "cell_type": "code",
      "source": [
        "print('toy2 predict',toy2.predict([np.array([1]),np.array([2]),np.array([3])]))\n",
        "print('toy predict',toy_model([np.array([1]),np.array([2]),np.array([3])]))\n",
        "print('toy2 out',toy2([np.array([1]),np.array([2]),np.array([3])]))"
      ],
      "metadata": {
        "id": "8oUpejBd_-L6",
        "outputId": "bad3dd4f-2853-45b2-bc71-ba4a7985deea",
        "colab": {
          "base_uri": "https://localhost:8080/"
        }
      },
      "execution_count": 10,
      "outputs": [
        {
          "output_type": "execute_result",
          "data": {
            "text/plain": [
              "array([[0.5]], dtype=float32)"
            ]
          },
          "metadata": {},
          "execution_count": 10
        }
      ]
    },
    {
      "cell_type": "code",
      "source": [
        "for layer in toy2.layers:\n",
        "    print((layer.name), layer)"
      ],
      "metadata": {
        "id": "4y4a6EL7CNQX",
        "outputId": "f37935f0-1a43-4525-8eeb-a7d59c389146",
        "colab": {
          "base_uri": "https://localhost:8080/"
        }
      },
      "execution_count": 33,
      "outputs": [
        {
          "output_type": "stream",
          "name": "stdout",
          "text": [
            "input1 <keras.engine.input_layer.InputLayer object at 0x7f1a202eef50>\n",
            "input2 <keras.engine.input_layer.InputLayer object at 0x7f1a2032a8d0>\n",
            "input3 <keras.engine.input_layer.InputLayer object at 0x7f1a2032a450>\n",
            "concat_layer <keras.layers.merge.Concatenate object at 0x7f1a2032a250>\n",
            "d1_layer <keras.layers.core.dense.Dense object at 0x7f1a2032af10>\n",
            "d2_layer <keras.layers.core.dense.Dense object at 0x7f1a21ace910>\n",
            "d3_layer <keras.layers.core.dense.Dense object at 0x7f1a202eec50>\n"
          ]
        }
      ]
    },
    {
      "cell_type": "code",
      "source": [
        "toy2_out = toy2.output\n",
        "print(toy2_out)\n",
        "toy_final = Dense(1, activation='sigmoid')(toy2_out)\n",
        "toy2_added = Model(inputs=toy2.input, outputs=toy_final)\n",
        "toy2_added.compile(\n",
        "    loss = 'MSE',\n",
        "    optimizer = 'SGD'\n",
        "    )\n",
        "\n",
        "toy2_added.fit([arr1, arr2, arr3],\n",
        "              labels, \n",
        "              epochs = 3,\n",
        "              verbose = 0)"
      ],
      "metadata": {
        "id": "mqPVA2L5ydeE",
        "outputId": "9403fae1-e555-4227-b408-1172d1fba573",
        "colab": {
          "base_uri": "https://localhost:8080/"
        }
      },
      "execution_count": 53,
      "outputs": [
        {
          "output_type": "stream",
          "name": "stdout",
          "text": [
            "KerasTensor(type_spec=TensorSpec(shape=(None, 1), dtype=tf.float32, name=None), name='d3_layer/Sigmoid:0', description=\"created by layer 'd3_layer'\")\n"
          ]
        }
      ]
    },
    {
      "cell_type": "code",
      "source": [
        ""
      ],
      "metadata": {
        "id": "73PGPkQq5lqz"
      },
      "execution_count": null,
      "outputs": []
    }
  ]
}